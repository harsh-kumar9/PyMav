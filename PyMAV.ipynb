{
 "cells": [
  {
   "cell_type": "markdown",
   "metadata": {},
   "source": [
    "Python script for arming and disarming a plane\n"
   ]
  },
  {
   "cell_type": "code",
   "execution_count": null,
   "metadata": {
    "collapsed": true
   },
   "outputs": [],
   "source": [
    "import time\n",
    "from pymavlink import mavutil\n",
    "\n",
    "mavutil.set_dialect(\"ardupilotmega\")\n",
    "\n",
    "autopilot = mavutil.mavlink_connection('udpin:127.0.0.1:14551')\n",
    "\n",
    "msg = None\n",
    "\n",
    "# wait for autopilot connection\n",
    "while msg is None:\n",
    "        msg = autopilot.recv_msg()\n",
    "\n",
    "print(msg)\n",
    "\n",
    "# The values of these heartbeat fields is not really important here\n",
    "# I just used the same numbers that QGC uses\n",
    "# It is standard practice for any system communicating via mavlink emit the HEARTBEAT message at 1Hz! Your autopilot may not behave the way you want otherwise!\n",
    "autopilot.mav.heartbeat_send(\n",
    "6, # type\n",
    "8, # autopilot\n",
    "192, # base_mode\n",
    "0, # custom_mode\n",
    "4, # system_status\n",
    "3  # mavlink_version\n",
    ")\n",
    "\n",
    "autopilot.mav.command_long_send(\n",
    "1, # autopilot system id\n",
    "1, # autopilot component id\n",
    "400, # command id, ARM/DISARM\n",
    "0, # confirmation\n",
    "1, # arm!\n",
    "0,0,0,0,0,0 # unused parameters for this command\n",
    ")\n",
    "\n",
    "time.sleep(2)\n",
    "\n",
    "autopilot.mav.command_long_send(\n",
    "1, # autopilot system id\n",
    "1, # autopilot component id\n",
    "400, # command id, ARM/DISARM\n",
    "0, # confirmation\n",
    "0, # disarm!\n",
    "0,0,0,0,0,0 # unused parameters for this command\n",
    ")"
   ]
  },
  {
   "cell_type": "markdown",
   "metadata": {},
   "source": [
    "Function for setting waypoints "
   ]
  },
  {
   "cell_type": "code",
   "execution_count": null,
   "metadata": {
    "collapsed": true
   },
   "outputs": [],
   "source": [
    "#mavwp set-up\n",
    "wp = mavwp.MAVWPLoader()\n",
    "\n",
    "def set_waypoint_cmd_mavwp(lat,lon,alt):\n",
    "    wp.add(mavutil.mavlink.MAVLink_mission_item_message(\n",
    "        1,#sys id\n",
    "        1,#component id\n",
    "        0,#seq wp id\n",
    "        0,#frame id\n",
    "        16,#mav_cmd \n",
    "        0,#current, true/false\n",
    "        0,#auto continue\n",
    "        0,0,0,0,#params 1-4: hold time(s),acceptable radius(m), pass/orbit,yaw angle\n",
    "        lat,lon,alt) #lat/lon/alt\n",
    "    )"
   ]
  },
  {
   "cell_type": "code",
   "execution_count": null,
   "metadata": {
    "collapsed": true
   },
   "outputs": [],
   "source": [
    "print \"#of waypoints=\",wp.count(),\"\\n\"\n",
    "    print \"waypoint is=\",wp.wp(0),\"\\n\"\n",
    "    autopilot.waypoint_clear_all_send()\n",
    "    autopilot.waypoint_count_send(wp.count())\n",
    "    msg = autopilot.recv_match(type=['MISSION_REQUEST'],blocking=True)\n",
    "    print msg\n",
    "    seq=0\n",
    "    autopilot.mav.send(wp.wp(msg.seq))"
   ]
  },
  {
   "cell_type": "markdown",
   "metadata": {},
   "source": [
    "https://www.colorado.edu/recuv/2015/05/25/mavlink-protocol-waypoints\n",
    "\n",
    "Need to clone this first \n",
    "\n",
    "https://github.com/ArduPilot/pymavlink\n"
   ]
  },
  {
   "cell_type": "markdown",
   "metadata": {},
   "source": [
    "Entering waypoints manually using python terminal"
   ]
  },
  {
   "cell_type": "code",
   "execution_count": null,
   "metadata": {
    "collapsed": true
   },
   "outputs": [],
   "source": [
    "from pymavlink import mavutil, mavwp\n",
    "\n",
    "print(\"Enter the no. of waypoints: \")\n",
    "N=int(input())\n",
    "lat=list()\n",
    "lon=list()\n",
    "alt=list()\n",
    "\n",
    "for i in range(N):\n",
    "    print(\"Enter lat,long,alt\")\n",
    "    lat.append(float(input()))\n",
    "    lon.append(float(input()))\n",
    "    alt.append(float(input()))\n",
    "    \n",
    "master = mavutil.mavlink_connection('udp:localhost:14551')  \n",
    "master.wait_heartbeat(blocking=True)                                       \n",
    "wp = mavwp.MAVWPLoader()                                                    \n",
    "seq = 1\n",
    "frame = mavutil.mavlink.MAV_FRAME_GLOBAL_RELATIVE_ALT\n",
    "radius = 10\n",
    "for i in range(N):                  \n",
    "            wp.add(mavutil.mavlink.MAVLink_mission_item_message(master.target_system,\n",
    "                         master.target_component,\n",
    "                         seq,\n",
    "                         frame,\n",
    "                         mavutil.mavlink.MAV_CMD_NAV_WAYPOINT,\n",
    "                         0, 0, 0, radius, 0, 0,\n",
    "                         lat[i],lon[i],alt[i]))\n",
    "            seq += 1                                                                       \n",
    "\n",
    "master.waypoint_clear_all_send()                                     \n",
    "master.waypoint_count_send(wp.count())                          \n",
    "\n",
    "for i in range(wp.count()):\n",
    "            msg = master.recv_match(type=['MISSION_REQUEST'],blocking=True)             \n",
    "            master.mav.send(wp.wp(msg.seq))                                                                      \n",
    "            print('Sending waypoint {0}'.format(msg.seq))                                                     "
   ]
  }
 ],
 "metadata": {
  "kernelspec": {
   "display_name": "Python 3",
   "language": "python",
   "name": "python3"
  },
  "language_info": {
   "codemirror_mode": {
    "name": "ipython",
    "version": 3
   },
   "file_extension": ".py",
   "mimetype": "text/x-python",
   "name": "python",
   "nbconvert_exporter": "python",
   "pygments_lexer": "ipython3",
   "version": "3.6.3"
  }
 },
 "nbformat": 4,
 "nbformat_minor": 2
}
